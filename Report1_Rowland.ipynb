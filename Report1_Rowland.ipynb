{
 "cells": [
  {
   "cell_type": "markdown",
   "id": "dba76e1d-7910-4318-aa67-c91d15ed7ea8",
   "metadata": {},
   "source": [
    "<h1>Report 1<h1\\>"
   ]
  },
  {
   "cell_type": "markdown",
   "id": "5a533bed-6fb7-4de6-87d3-44998204b7f4",
   "metadata": {},
   "source": [
    "In this notebook I am going to present the code for the resolution of the Assessment 1 in the module \"Programming and Policy Analysis\"."
   ]
  },
  {
   "cell_type": "markdown",
   "id": "3f855573-da8b-405f-9372-be8c40ef672a",
   "metadata": {},
   "source": [
    "<h2>Loading Database and Dependent Variable<h2\\>"
   ]
  },
  {
   "cell_type": "code",
   "execution_count": 5,
   "id": "0914dfeb-85db-432f-86cc-419868a6e2f5",
   "metadata": {
    "collapsed": true,
    "jupyter": {
     "outputs_hidden": true
    },
    "scrolled": true
   },
   "outputs": [
    {
     "name": "stdout",
     "output_type": "stream",
     "text": [
      "Note: you may need to restart the kernel to use updated packages.\n",
      "Requirement already satisfied: pandas in c:\\users\\frowland\\appdata\\local\\programs\\python\\python313\\lib\\site-packages (2.2.3)\n",
      "Requirement already satisfied: openpyxl in c:\\users\\frowland\\appdata\\local\\programs\\python\\python313\\lib\\site-packages (3.1.5)\n",
      "Requirement already satisfied: numpy>=1.26.0 in c:\\users\\frowland\\appdata\\local\\programs\\python\\python313\\lib\\site-packages (from pandas) (2.1.2)\n",
      "Requirement already satisfied: python-dateutil>=2.8.2 in c:\\users\\frowland\\appdata\\local\\programs\\python\\python313\\lib\\site-packages (from pandas) (2.9.0.post0)\n",
      "Requirement already satisfied: pytz>=2020.1 in c:\\users\\frowland\\appdata\\local\\programs\\python\\python313\\lib\\site-packages (from pandas) (2024.2)\n",
      "Requirement already satisfied: tzdata>=2022.7 in c:\\users\\frowland\\appdata\\local\\programs\\python\\python313\\lib\\site-packages (from pandas) (2024.2)\n",
      "Requirement already satisfied: et-xmlfile in c:\\users\\frowland\\appdata\\local\\programs\\python\\python313\\lib\\site-packages (from openpyxl) (2.0.0)\n",
      "Requirement already satisfied: six>=1.5 in c:\\users\\frowland\\appdata\\local\\programs\\python\\python313\\lib\\site-packages (from python-dateutil>=2.8.2->pandas) (1.16.0)\n",
      "[[ 6]\n",
      " [ 6]\n",
      " [10]\n",
      " [15]\n",
      " [10]\n",
      " [15]\n",
      " [11]\n",
      " [ 6]\n",
      " [19]\n",
      " [15]\n",
      " [ 9]\n",
      " [12]\n",
      " [14]\n",
      " [11]\n",
      " [16]\n",
      " [14]\n",
      " [14]\n",
      " [10]\n",
      " [ 5]\n",
      " [10]\n",
      " [15]\n",
      " [15]\n",
      " [16]\n",
      " [12]\n",
      " [ 8]\n",
      " [ 8]\n",
      " [11]\n",
      " [15]\n",
      " [11]\n",
      " [11]\n",
      " [12]\n",
      " [17]\n",
      " [16]\n",
      " [12]\n",
      " [15]\n",
      " [ 6]\n",
      " [18]\n",
      " [15]\n",
      " [11]\n",
      " [13]\n",
      " [11]\n",
      " [12]\n",
      " [18]\n",
      " [11]\n",
      " [ 9]\n",
      " [ 6]\n",
      " [11]\n",
      " [20]\n",
      " [14]\n",
      " [ 7]\n",
      " [13]\n",
      " [13]\n",
      " [10]\n",
      " [11]\n",
      " [13]\n",
      " [10]\n",
      " [15]\n",
      " [15]\n",
      " [ 9]\n",
      " [16]\n",
      " [11]\n",
      " [11]\n",
      " [ 9]\n",
      " [ 9]\n",
      " [10]\n",
      " [15]\n",
      " [12]\n",
      " [ 6]\n",
      " [ 8]\n",
      " [16]\n",
      " [15]\n",
      " [10]\n",
      " [ 5]\n",
      " [14]\n",
      " [11]\n",
      " [10]\n",
      " [10]\n",
      " [11]\n",
      " [10]\n",
      " [ 5]\n",
      " [12]\n",
      " [11]\n",
      " [ 6]\n",
      " [15]\n",
      " [10]\n",
      " [ 8]\n",
      " [ 6]\n",
      " [14]\n",
      " [10]\n",
      " [ 7]\n",
      " [ 8]\n",
      " [18]\n",
      " [ 6]\n",
      " [10]\n",
      " [14]\n",
      " [10]\n",
      " [15]\n",
      " [10]\n",
      " [14]\n",
      " [ 8]\n",
      " [ 5]\n",
      " [17]\n",
      " [14]\n",
      " [ 6]\n",
      " [18]\n",
      " [11]\n",
      " [ 8]\n",
      " [18]\n",
      " [13]\n",
      " [16]\n",
      " [19]\n",
      " [10]\n",
      " [13]\n",
      " [19]\n",
      " [ 9]\n",
      " [16]\n",
      " [14]\n",
      " [13]\n",
      " [ 8]\n",
      " [13]\n",
      " [15]\n",
      " [15]\n",
      " [13]\n",
      " [13]\n",
      " [ 8]\n",
      " [12]\n",
      " [11]\n",
      " [ 9]\n",
      " [ 0]\n",
      " [18]\n",
      " [ 0]\n",
      " [ 0]\n",
      " [12]\n",
      " [11]\n",
      " [ 0]\n",
      " [ 0]\n",
      " [ 0]\n",
      " [ 0]\n",
      " [12]\n",
      " [15]\n",
      " [ 0]\n",
      " [ 9]\n",
      " [11]\n",
      " [13]\n",
      " [ 0]\n",
      " [11]\n",
      " [ 0]\n",
      " [11]\n",
      " [ 0]\n",
      " [10]\n",
      " [ 0]\n",
      " [14]\n",
      " [10]\n",
      " [ 0]\n",
      " [12]\n",
      " [ 8]\n",
      " [13]\n",
      " [10]\n",
      " [15]\n",
      " [12]\n",
      " [ 0]\n",
      " [ 7]\n",
      " [ 0]\n",
      " [10]\n",
      " [ 7]\n",
      " [12]\n",
      " [10]\n",
      " [16]\n",
      " [ 0]\n",
      " [14]\n",
      " [ 0]\n",
      " [16]\n",
      " [10]\n",
      " [ 0]\n",
      " [ 9]\n",
      " [ 9]\n",
      " [11]\n",
      " [ 6]\n",
      " [ 9]\n",
      " [11]\n",
      " [ 8]\n",
      " [12]\n",
      " [17]\n",
      " [ 8]\n",
      " [12]\n",
      " [11]\n",
      " [11]\n",
      " [15]\n",
      " [ 9]\n",
      " [10]\n",
      " [13]\n",
      " [ 9]\n",
      " [ 8]\n",
      " [10]\n",
      " [14]\n",
      " [15]\n",
      " [16]\n",
      " [10]\n",
      " [18]\n",
      " [10]\n",
      " [16]\n",
      " [10]\n",
      " [10]\n",
      " [ 6]\n",
      " [11]\n",
      " [ 9]\n",
      " [ 7]\n",
      " [13]\n",
      " [10]\n",
      " [ 7]\n",
      " [ 8]\n",
      " [13]\n",
      " [14]\n",
      " [ 8]\n",
      " [10]\n",
      " [15]\n",
      " [ 4]\n",
      " [ 8]\n",
      " [ 8]\n",
      " [10]\n",
      " [ 6]\n",
      " [ 0]\n",
      " [17]\n",
      " [13]\n",
      " [14]\n",
      " [ 7]\n",
      " [15]\n",
      " [12]\n",
      " [ 9]\n",
      " [12]\n",
      " [14]\n",
      " [11]\n",
      " [ 9]\n",
      " [13]\n",
      " [ 6]\n",
      " [10]\n",
      " [13]\n",
      " [12]\n",
      " [11]\n",
      " [ 0]\n",
      " [12]\n",
      " [12]\n",
      " [ 0]\n",
      " [12]\n",
      " [ 0]\n",
      " [18]\n",
      " [13]\n",
      " [ 8]\n",
      " [ 5]\n",
      " [15]\n",
      " [ 8]\n",
      " [10]\n",
      " [ 8]\n",
      " [ 8]\n",
      " [12]\n",
      " [ 8]\n",
      " [13]\n",
      " [11]\n",
      " [14]\n",
      " [ 0]\n",
      " [18]\n",
      " [ 8]\n",
      " [12]\n",
      " [ 9]\n",
      " [ 0]\n",
      " [17]\n",
      " [10]\n",
      " [11]\n",
      " [10]\n",
      " [ 0]\n",
      " [ 9]\n",
      " [14]\n",
      " [11]\n",
      " [14]\n",
      " [10]\n",
      " [12]\n",
      " [ 9]\n",
      " [ 9]\n",
      " [ 8]\n",
      " [10]\n",
      " [ 8]\n",
      " [10]\n",
      " [12]\n",
      " [10]\n",
      " [11]\n",
      " [11]\n",
      " [19]\n",
      " [12]\n",
      " [14]\n",
      " [15]\n",
      " [11]\n",
      " [15]\n",
      " [13]\n",
      " [18]\n",
      " [14]\n",
      " [11]\n",
      " [ 0]\n",
      " [ 8]\n",
      " [14]\n",
      " [16]\n",
      " [11]\n",
      " [10]\n",
      " [14]\n",
      " [18]\n",
      " [13]\n",
      " [12]\n",
      " [18]\n",
      " [ 8]\n",
      " [12]\n",
      " [10]\n",
      " [ 0]\n",
      " [13]\n",
      " [11]\n",
      " [11]\n",
      " [13]\n",
      " [11]\n",
      " [ 0]\n",
      " [ 9]\n",
      " [10]\n",
      " [11]\n",
      " [13]\n",
      " [ 9]\n",
      " [11]\n",
      " [15]\n",
      " [15]\n",
      " [11]\n",
      " [16]\n",
      " [10]\n",
      " [ 9]\n",
      " [14]\n",
      " [ 8]\n",
      " [14]\n",
      " [ 0]\n",
      " [ 0]\n",
      " [ 0]\n",
      " [15]\n",
      " [13]\n",
      " [ 0]\n",
      " [17]\n",
      " [10]\n",
      " [11]\n",
      " [ 0]\n",
      " [15]\n",
      " [ 0]\n",
      " [10]\n",
      " [14]\n",
      " [16]\n",
      " [ 9]\n",
      " [15]\n",
      " [13]\n",
      " [ 8]\n",
      " [13]\n",
      " [ 8]\n",
      " [ 8]\n",
      " [11]\n",
      " [ 9]\n",
      " [13]\n",
      " [11]\n",
      " [10]\n",
      " [16]\n",
      " [13]\n",
      " [12]\n",
      " [10]\n",
      " [15]\n",
      " [12]\n",
      " [10]\n",
      " [13]\n",
      " [ 0]\n",
      " [10]\n",
      " [11]\n",
      " [ 9]\n",
      " [12]\n",
      " [11]\n",
      " [ 5]\n",
      " [19]\n",
      " [10]\n",
      " [15]\n",
      " [10]\n",
      " [15]\n",
      " [10]\n",
      " [14]\n",
      " [ 7]\n",
      " [10]\n",
      " [ 0]\n",
      " [ 5]\n",
      " [10]\n",
      " [ 6]\n",
      " [ 0]\n",
      " [ 8]\n",
      " [ 0]\n",
      " [ 9]\n",
      " [16]\n",
      " [ 7]\n",
      " [10]\n",
      " [ 9]]\n"
     ]
    },
    {
     "name": "stderr",
     "output_type": "stream",
     "text": [
      "\n",
      "[notice] A new release of pip is available: 24.2 -> 24.3.1\n",
      "[notice] To update, run: python.exe -m pip install --upgrade pip\n"
     ]
    }
   ],
   "source": [
    "%pip install pandas openpyxl\n",
    "\n",
    "import pandas as pd\n",
    "\n",
    "RFM_df = pd.read_excel('C:/Users/FRowland/Desktop/JN/student-mat.xlsx')\n",
    "RFM_df.head()\n",
    "\n",
    "# Import some libraries for working in a better way\n",
    "\n",
    "import pandas as pd\n",
    "import numpy as np\n",
    "\n",
    "# Matrix of dependent variable\n",
    "dg=pd.DataFrame(RFM_df)\n",
    "dependent=dg[['G3']].to_numpy()\n",
    "print(dependent)"
   ]
  },
  {
   "cell_type": "markdown",
   "id": "1cbc2229-6f3a-43ae-8f4d-615ef7e8127c",
   "metadata": {},
   "source": [
    "<h2>Estimation of Parameters<h2\\>"
   ]
  },
  {
   "cell_type": "markdown",
   "id": "f1001a51-73b7-4510-bfc4-fab84a166f9b",
   "metadata": {},
   "source": [
    "In this section I am going to estimate the parameters of the OLS. The first step is to create an unitary matrix."
   ]
  },
  {
   "cell_type": "code",
   "execution_count": 6,
   "id": "46a7be90-f8f4-44d2-9a9d-d6397dae2b02",
   "metadata": {
    "collapsed": true,
    "jupyter": {
     "outputs_hidden": true
    },
    "scrolled": true
   },
   "outputs": [
    {
     "name": "stdout",
     "output_type": "stream",
     "text": [
      "[[1], [1], [1], [1], [1], [1], [1], [1], [1], [1], [1], [1], [1], [1], [1], [1], [1], [1], [1], [1], [1], [1], [1], [1], [1], [1], [1], [1], [1], [1], [1], [1], [1], [1], [1], [1], [1], [1], [1], [1], [1], [1], [1], [1], [1], [1], [1], [1], [1], [1], [1], [1], [1], [1], [1], [1], [1], [1], [1], [1], [1], [1], [1], [1], [1], [1], [1], [1], [1], [1], [1], [1], [1], [1], [1], [1], [1], [1], [1], [1], [1], [1], [1], [1], [1], [1], [1], [1], [1], [1], [1], [1], [1], [1], [1], [1], [1], [1], [1], [1], [1], [1], [1], [1], [1], [1], [1], [1], [1], [1], [1], [1], [1], [1], [1], [1], [1], [1], [1], [1], [1], [1], [1], [1], [1], [1], [1], [1], [1], [1], [1], [1], [1], [1], [1], [1], [1], [1], [1], [1], [1], [1], [1], [1], [1], [1], [1], [1], [1], [1], [1], [1], [1], [1], [1], [1], [1], [1], [1], [1], [1], [1], [1], [1], [1], [1], [1], [1], [1], [1], [1], [1], [1], [1], [1], [1], [1], [1], [1], [1], [1], [1], [1], [1], [1], [1], [1], [1], [1], [1], [1], [1], [1], [1], [1], [1], [1], [1], [1], [1], [1], [1], [1], [1], [1], [1], [1], [1], [1], [1], [1], [1], [1], [1], [1], [1], [1], [1], [1], [1], [1], [1], [1], [1], [1], [1], [1], [1], [1], [1], [1], [1], [1], [1], [1], [1], [1], [1], [1], [1], [1], [1], [1], [1], [1], [1], [1], [1], [1], [1], [1], [1], [1], [1], [1], [1], [1], [1], [1], [1], [1], [1], [1], [1], [1], [1], [1], [1], [1], [1], [1], [1], [1], [1], [1], [1], [1], [1], [1], [1], [1], [1], [1], [1], [1], [1], [1], [1], [1], [1], [1], [1], [1], [1], [1], [1], [1], [1], [1], [1], [1], [1], [1], [1], [1], [1], [1], [1], [1], [1], [1], [1], [1], [1], [1], [1], [1], [1], [1], [1], [1], [1], [1], [1], [1], [1], [1], [1], [1], [1], [1], [1], [1], [1], [1], [1], [1], [1], [1], [1], [1], [1], [1], [1], [1], [1], [1], [1], [1], [1], [1], [1], [1], [1], [1], [1], [1], [1], [1], [1], [1], [1], [1], [1], [1], [1], [1], [1], [1], [1], [1], [1], [1], [1], [1], [1], [1], [1], [1], [1], [1], [1], [1], [1], [1], [1], [1], [1], [1], [1], [1], [1], [1], [1], [1]]\n"
     ]
    }
   ],
   "source": [
    "matrix_one=[]\n",
    "\n",
    "for f in range(len(dependent)):\n",
    "    matrix_one.append([])\n",
    "    for c in range(1):\n",
    "        matrix_one[f].append(1)\n",
    "\n",
    "print(matrix_one)"
   ]
  },
  {
   "cell_type": "markdown",
   "id": "815f5aa8-022e-4802-9d06-5776fa54e07c",
   "metadata": {},
   "source": [
    "Next, I am going to create a matrix of independent variables that will be united with the unitary matrix."
   ]
  },
  {
   "cell_type": "code",
   "execution_count": 7,
   "id": "6cb556ac-7cb2-40e6-8b70-acb2e4220568",
   "metadata": {
    "collapsed": true,
    "jupyter": {
     "outputs_hidden": true
    },
    "scrolled": true
   },
   "outputs": [
    {
     "name": "stdout",
     "output_type": "stream",
     "text": [
      "[[18.82485419]\n",
      " [-0.61262717]\n",
      " [-0.61382494]\n",
      " [ 0.50849645]\n",
      " [ 0.28221573]\n",
      " [ 0.09973841]\n",
      " [ 0.04149789]]\n"
     ]
    }
   ],
   "source": [
    "# Matrix of independent variables\n",
    "independent=dg[['age','traveltime','studytime','famrel','freetime','absences']].to_numpy()\n",
    "\n",
    "# Unitary matrix is transformed in an array\n",
    "matrix_one=np.array(matrix_one)\n",
    "\n",
    "# Unitary matrix is united with independent variables\n",
    "explicative=np.hstack((matrix_one,independent))\n",
    "\n",
    "# Matrix of independent variables (united to unitary matrix) is transposed\n",
    "x_t=np.transpose(explicative)\n",
    "\n",
    "# Estimation of betas\n",
    "betas=np.linalg.inv(x_t@explicative)@x_t@dependent\n",
    "print(betas)"
   ]
  },
  {
   "cell_type": "markdown",
   "id": "a55e6fb9-6b7a-4e53-af6b-627bd2f8af94",
   "metadata": {},
   "source": [
    "<h2>Standard Errors<h2\\>"
   ]
  },
  {
   "cell_type": "markdown",
   "id": "db255bc9-c677-4b3b-825d-e5862777fc4e",
   "metadata": {},
   "source": [
    "In this section it will be estimated the Standard Errors."
   ]
  },
  {
   "cell_type": "code",
   "execution_count": 10,
   "id": "c2680059-691f-473c-8e8a-ccb2bf82baec",
   "metadata": {},
   "outputs": [
    {
     "name": "stdout",
     "output_type": "stream",
     "text": [
      "[3.22553758 0.18107076 0.32735376 0.27523638 0.25641404 0.23246929\n",
      " 0.02889783]\n"
     ]
    }
   ],
   "source": [
    "# It is calculated the residuals \n",
    "residuos=dependent-explicative@betas\n",
    "\n",
    "# It is calculated the variance of the errors\n",
    "var_errors=(np.transpose(residuos)@residuos)*(1/(len(residuos)-explicative.shape[1]))\n",
    "\n",
    "#It is calculated the Var-Cov matrix\n",
    "var_cov=var_errors*np.linalg.inv(x_t@explicative)\n",
    "\n",
    "#It is calculated the standard errors\n",
    "standard_errors=np.sqrt(np.diag(var_cov))\n",
    "print(standard_errors)"
   ]
  },
  {
   "cell_type": "markdown",
   "id": "fdf8536a-69a2-41ca-ab06-e1f1c49dbbed",
   "metadata": {},
   "source": [
    "<h2>t-Statistics<h2\\>"
   ]
  },
  {
   "cell_type": "markdown",
   "id": "fdab077a-d89a-42d4-89e0-7bfd06fa614a",
   "metadata": {},
   "source": [
    "In this section I am going to calculate the t statistics associated with each beta."
   ]
  },
  {
   "cell_type": "code",
   "execution_count": 12,
   "id": "44f8462c-e1a4-435d-b2b4-a85add7cb48e",
   "metadata": {
    "collapsed": true,
    "jupyter": {
     "outputs_hidden": true
    }
   },
   "outputs": [
    {
     "name": "stdout",
     "output_type": "stream",
     "text": [
      "[[ 5.83619125]\n",
      " [-3.38335791]\n",
      " [-1.87511191]\n",
      " [ 1.84748993]\n",
      " [ 1.10062512]\n",
      " [ 0.42903907]\n",
      " [ 1.43602123]]\n"
     ]
    }
   ],
   "source": [
    "# The shape of standard errors is changed for allowing the calculation\n",
    "standard_errors1=standard_errors.reshape(7,1)\n",
    "\n",
    "# The t-statistics are calculated for each beta\n",
    "t_statistics=betas*np.reciprocal(standard_errors1)\n",
    "\n",
    "print(t_statistics)"
   ]
  },
  {
   "cell_type": "markdown",
   "id": "dd8e848f-9313-489c-9342-6849b4aa6fd2",
   "metadata": {},
   "source": [
    "<h2>p-Values<h2\\>"
   ]
  },
  {
   "cell_type": "markdown",
   "id": "56533b0b-b367-4354-a79a-1df78b8ec144",
   "metadata": {},
   "source": [
    "In this section I am going to calculate the p values associated to each beta."
   ]
  },
  {
   "cell_type": "code",
   "execution_count": 15,
   "id": "d6120804-2694-45b1-a0cb-0f49a4214efd",
   "metadata": {
    "collapsed": true,
    "jupyter": {
     "outputs_hidden": true
    },
    "scrolled": true
   },
   "outputs": [
    {
     "name": "stdout",
     "output_type": "stream",
     "text": [
      "[[1.12840290e-08]\n",
      " [7.88968943e-04]\n",
      " [6.15282106e-02]\n",
      " [6.54371908e-02]\n",
      " [2.71742199e-01]\n",
      " [6.68132908e-01]\n",
      " [1.51802030e-01]]\n"
     ]
    }
   ],
   "source": [
    "# Import this library for getting the cumulative distribution function\n",
    "from scipy import stats\n",
    "\n",
    "#p-values are estimated\n",
    "p_value=2*(1-stats.t.cdf(abs(t_statistics),len(residuos)-explicative.shape[1]))\n",
    "print(p_value)"
   ]
  },
  {
   "cell_type": "markdown",
   "id": "2e03af38-e152-4c74-81ff-e17deaf6d061",
   "metadata": {},
   "source": [
    "<h2>R-Square<h2\\>"
   ]
  },
  {
   "cell_type": "markdown",
   "id": "5fc7a59b-a3f5-4341-9740-9471bc1bac83",
   "metadata": {},
   "source": [
    "In this section I am going to calculate de R-Square of this regression."
   ]
  },
  {
   "cell_type": "code",
   "execution_count": null,
   "id": "87473488-e848-4ff0-b591-4a6ae011057f",
   "metadata": {},
   "outputs": [],
   "source": [
    "# Average of the dependent variable\n",
    "y_bar=np.sum(dependent)/len(dependent)\n",
    "\n",
    "# Total Sum of Squares (SST)\n",
    "SST=np.sum((dependent-y_bar)**2)\n",
    "\n",
    "# Dependent variable estimated\n",
    "y_hat=explicative@betas\n",
    "\n",
    "# Residual Sum of Squares\n",
    "SSE=np.sum((dependent-y_hat)**2)\n",
    "\n",
    "# R-Square is calculated\n",
    "R_square=1-(SSE/SST)\n",
    "print(R_square)"
   ]
  }
 ],
 "metadata": {
  "kernelspec": {
   "display_name": "Python 3 (ipykernel)",
   "language": "python",
   "name": "python3"
  },
  "language_info": {
   "codemirror_mode": {
    "name": "ipython",
    "version": 3
   },
   "file_extension": ".py",
   "mimetype": "text/x-python",
   "name": "python",
   "nbconvert_exporter": "python",
   "pygments_lexer": "ipython3",
   "version": "3.13.0"
  }
 },
 "nbformat": 4,
 "nbformat_minor": 5
}
