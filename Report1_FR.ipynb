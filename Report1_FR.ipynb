{
 "cells": [
  {
   "cell_type": "markdown",
   "id": "7a7a3539-76c8-4a5e-b4a2-3d56243506d0",
   "metadata": {},
   "source": [
    "<h1>Report 1<h1/>"
   ]
  },
  {
   "cell_type": "markdown",
   "id": "61e9944f-5842-4117-9eb3-c02e35db9f97",
   "metadata": {},
   "source": [
    "In this notebook I am going to present the code for the resolution of the Assessment 1 in the module \"Programming and Policy Analysis\"."
   ]
  },
  {
   "cell_type": "markdown",
   "id": "6d21474e-c8d4-4bba-b542-af7b03aed6de",
   "metadata": {},
   "source": [
    "<h2>Loading Database<h2/>"
   ]
  },
  {
   "cell_type": "markdown",
   "id": "e887961a-600c-4cde-bd30-95deb5ce0151",
   "metadata": {},
   "source": [
    "In this section I am going to upload the database. It could be any database, but in this case I will use the database \"Student Performance\" from an Introductory Paper for 5th Annual Future Business Technology Conference. I will import from an Excel file."
   ]
  },
  {
   "cell_type": "code",
   "execution_count": 32,
   "id": "2cb78d24-c684-43d1-b0b3-543e91b541f9",
   "metadata": {
    "collapsed": true,
    "jupyter": {
     "outputs_hidden": true
    }
   },
   "outputs": [
    {
     "name": "stdout",
     "output_type": "stream",
     "text": [
      "Requirement already satisfied: pandas in c:\\users\\frowland\\appdata\\local\\programs\\python\\python313\\lib\\site-packages (2.2.3)\n",
      "Requirement already satisfied: openpyxl in c:\\users\\frowland\\appdata\\local\\programs\\python\\python313\\lib\\site-packages (3.1.5)\n",
      "Requirement already satisfied: numpy>=1.26.0 in c:\\users\\frowland\\appdata\\local\\programs\\python\\python313\\lib\\site-packages (from pandas) (2.1.2)\n",
      "Requirement already satisfied: python-dateutil>=2.8.2 in c:\\users\\frowland\\appdata\\local\\programs\\python\\python313\\lib\\site-packages (from pandas) (2.9.0.post0)\n",
      "Requirement already satisfied: pytz>=2020.1 in c:\\users\\frowland\\appdata\\local\\programs\\python\\python313\\lib\\site-packages (from pandas) (2024.2)\n",
      "Requirement already satisfied: tzdata>=2022.7 in c:\\users\\frowland\\appdata\\local\\programs\\python\\python313\\lib\\site-packages (from pandas) (2024.2)\n",
      "Requirement already satisfied: et-xmlfile in c:\\users\\frowland\\appdata\\local\\programs\\python\\python313\\lib\\site-packages (from openpyxl) (2.0.0)\n",
      "Requirement already satisfied: six>=1.5 in c:\\users\\frowland\\appdata\\local\\programs\\python\\python313\\lib\\site-packages (from python-dateutil>=2.8.2->pandas) (1.16.0)\n",
      "Note: you may need to restart the kernel to use updated packages.\n",
      "[[ 6]\n",
      " [ 6]\n",
      " [10]\n",
      " [15]\n",
      " [10]\n",
      " [15]\n",
      " [11]\n",
      " [ 6]\n",
      " [19]\n",
      " [15]\n",
      " [ 9]\n",
      " [12]\n",
      " [14]\n",
      " [11]\n",
      " [16]\n",
      " [14]\n",
      " [14]\n",
      " [10]\n",
      " [ 5]\n",
      " [10]\n",
      " [15]\n",
      " [15]\n",
      " [16]\n",
      " [12]\n",
      " [ 8]\n",
      " [ 8]\n",
      " [11]\n",
      " [15]\n",
      " [11]\n",
      " [11]\n",
      " [12]\n",
      " [17]\n",
      " [16]\n",
      " [12]\n",
      " [15]\n",
      " [ 6]\n",
      " [18]\n",
      " [15]\n",
      " [11]\n",
      " [13]\n",
      " [11]\n",
      " [12]\n",
      " [18]\n",
      " [11]\n",
      " [ 9]\n",
      " [ 6]\n",
      " [11]\n",
      " [20]\n",
      " [14]\n",
      " [ 7]\n",
      " [13]\n",
      " [13]\n",
      " [10]\n",
      " [11]\n",
      " [13]\n",
      " [10]\n",
      " [15]\n",
      " [15]\n",
      " [ 9]\n",
      " [16]\n",
      " [11]\n",
      " [11]\n",
      " [ 9]\n",
      " [ 9]\n",
      " [10]\n",
      " [15]\n",
      " [12]\n",
      " [ 6]\n",
      " [ 8]\n",
      " [16]\n",
      " [15]\n",
      " [10]\n",
      " [ 5]\n",
      " [14]\n",
      " [11]\n",
      " [10]\n",
      " [10]\n",
      " [11]\n",
      " [10]\n",
      " [ 5]\n",
      " [12]\n",
      " [11]\n",
      " [ 6]\n",
      " [15]\n",
      " [10]\n",
      " [ 8]\n",
      " [ 6]\n",
      " [14]\n",
      " [10]\n",
      " [ 7]\n",
      " [ 8]\n",
      " [18]\n",
      " [ 6]\n",
      " [10]\n",
      " [14]\n",
      " [10]\n",
      " [15]\n",
      " [10]\n",
      " [14]\n",
      " [ 8]\n",
      " [ 5]\n",
      " [17]\n",
      " [14]\n",
      " [ 6]\n",
      " [18]\n",
      " [11]\n",
      " [ 8]\n",
      " [18]\n",
      " [13]\n",
      " [16]\n",
      " [19]\n",
      " [10]\n",
      " [13]\n",
      " [19]\n",
      " [ 9]\n",
      " [16]\n",
      " [14]\n",
      " [13]\n",
      " [ 8]\n",
      " [13]\n",
      " [15]\n",
      " [15]\n",
      " [13]\n",
      " [13]\n",
      " [ 8]\n",
      " [12]\n",
      " [11]\n",
      " [ 9]\n",
      " [ 0]\n",
      " [18]\n",
      " [ 0]\n",
      " [ 0]\n",
      " [12]\n",
      " [11]\n",
      " [ 0]\n",
      " [ 0]\n",
      " [ 0]\n",
      " [ 0]\n",
      " [12]\n",
      " [15]\n",
      " [ 0]\n",
      " [ 9]\n",
      " [11]\n",
      " [13]\n",
      " [ 0]\n",
      " [11]\n",
      " [ 0]\n",
      " [11]\n",
      " [ 0]\n",
      " [10]\n",
      " [ 0]\n",
      " [14]\n",
      " [10]\n",
      " [ 0]\n",
      " [12]\n",
      " [ 8]\n",
      " [13]\n",
      " [10]\n",
      " [15]\n",
      " [12]\n",
      " [ 0]\n",
      " [ 7]\n",
      " [ 0]\n",
      " [10]\n",
      " [ 7]\n",
      " [12]\n",
      " [10]\n",
      " [16]\n",
      " [ 0]\n",
      " [14]\n",
      " [ 0]\n",
      " [16]\n",
      " [10]\n",
      " [ 0]\n",
      " [ 9]\n",
      " [ 9]\n",
      " [11]\n",
      " [ 6]\n",
      " [ 9]\n",
      " [11]\n",
      " [ 8]\n",
      " [12]\n",
      " [17]\n",
      " [ 8]\n",
      " [12]\n",
      " [11]\n",
      " [11]\n",
      " [15]\n",
      " [ 9]\n",
      " [10]\n",
      " [13]\n",
      " [ 9]\n",
      " [ 8]\n",
      " [10]\n",
      " [14]\n",
      " [15]\n",
      " [16]\n",
      " [10]\n",
      " [18]\n",
      " [10]\n",
      " [16]\n",
      " [10]\n",
      " [10]\n",
      " [ 6]\n",
      " [11]\n",
      " [ 9]\n",
      " [ 7]\n",
      " [13]\n",
      " [10]\n",
      " [ 7]\n",
      " [ 8]\n",
      " [13]\n",
      " [14]\n",
      " [ 8]\n",
      " [10]\n",
      " [15]\n",
      " [ 4]\n",
      " [ 8]\n",
      " [ 8]\n",
      " [10]\n",
      " [ 6]\n",
      " [ 0]\n",
      " [17]\n",
      " [13]\n",
      " [14]\n",
      " [ 7]\n",
      " [15]\n",
      " [12]\n",
      " [ 9]\n",
      " [12]\n",
      " [14]\n",
      " [11]\n",
      " [ 9]\n",
      " [13]\n",
      " [ 6]\n",
      " [10]\n",
      " [13]\n",
      " [12]\n",
      " [11]\n",
      " [ 0]\n",
      " [12]\n",
      " [12]\n",
      " [ 0]\n",
      " [12]\n",
      " [ 0]\n",
      " [18]\n",
      " [13]\n",
      " [ 8]\n",
      " [ 5]\n",
      " [15]\n",
      " [ 8]\n",
      " [10]\n",
      " [ 8]\n",
      " [ 8]\n",
      " [12]\n",
      " [ 8]\n",
      " [13]\n",
      " [11]\n",
      " [14]\n",
      " [ 0]\n",
      " [18]\n",
      " [ 8]\n",
      " [12]\n",
      " [ 9]\n",
      " [ 0]\n",
      " [17]\n",
      " [10]\n",
      " [11]\n",
      " [10]\n",
      " [ 0]\n",
      " [ 9]\n",
      " [14]\n",
      " [11]\n",
      " [14]\n",
      " [10]\n",
      " [12]\n",
      " [ 9]\n",
      " [ 9]\n",
      " [ 8]\n",
      " [10]\n",
      " [ 8]\n",
      " [10]\n",
      " [12]\n",
      " [10]\n",
      " [11]\n",
      " [11]\n",
      " [19]\n",
      " [12]\n",
      " [14]\n",
      " [15]\n",
      " [11]\n",
      " [15]\n",
      " [13]\n",
      " [18]\n",
      " [14]\n",
      " [11]\n",
      " [ 0]\n",
      " [ 8]\n",
      " [14]\n",
      " [16]\n",
      " [11]\n",
      " [10]\n",
      " [14]\n",
      " [18]\n",
      " [13]\n",
      " [12]\n",
      " [18]\n",
      " [ 8]\n",
      " [12]\n",
      " [10]\n",
      " [ 0]\n",
      " [13]\n",
      " [11]\n",
      " [11]\n",
      " [13]\n",
      " [11]\n",
      " [ 0]\n",
      " [ 9]\n",
      " [10]\n",
      " [11]\n",
      " [13]\n",
      " [ 9]\n",
      " [11]\n",
      " [15]\n",
      " [15]\n",
      " [11]\n",
      " [16]\n",
      " [10]\n",
      " [ 9]\n",
      " [14]\n",
      " [ 8]\n",
      " [14]\n",
      " [ 0]\n",
      " [ 0]\n",
      " [ 0]\n",
      " [15]\n",
      " [13]\n",
      " [ 0]\n",
      " [17]\n",
      " [10]\n",
      " [11]\n",
      " [ 0]\n",
      " [15]\n",
      " [ 0]\n",
      " [10]\n",
      " [14]\n",
      " [16]\n",
      " [ 9]\n",
      " [15]\n",
      " [13]\n",
      " [ 8]\n",
      " [13]\n",
      " [ 8]\n",
      " [ 8]\n",
      " [11]\n",
      " [ 9]\n",
      " [13]\n",
      " [11]\n",
      " [10]\n",
      " [16]\n",
      " [13]\n",
      " [12]\n",
      " [10]\n",
      " [15]\n",
      " [12]\n",
      " [10]\n",
      " [13]\n",
      " [ 0]\n",
      " [10]\n",
      " [11]\n",
      " [ 9]\n",
      " [12]\n",
      " [11]\n",
      " [ 5]\n",
      " [19]\n",
      " [10]\n",
      " [15]\n",
      " [10]\n",
      " [15]\n",
      " [10]\n",
      " [14]\n",
      " [ 7]\n",
      " [10]\n",
      " [ 0]\n",
      " [ 5]\n",
      " [10]\n",
      " [ 6]\n",
      " [ 0]\n",
      " [ 8]\n",
      " [ 0]\n",
      " [ 9]\n",
      " [16]\n",
      " [ 7]\n",
      " [10]\n",
      " [ 9]]\n"
     ]
    },
    {
     "name": "stderr",
     "output_type": "stream",
     "text": [
      "\n",
      "[notice] A new release of pip is available: 24.2 -> 24.3.1\n",
      "[notice] To update, run: python.exe -m pip install --upgrade pip\n"
     ]
    },
    {
     "data": {
      "text/plain": [
       "395"
      ]
     },
     "execution_count": 32,
     "metadata": {},
     "output_type": "execute_result"
    }
   ],
   "source": [
    "%pip install pandas openpyxl\n",
    "\n",
    "import pandas as pd\n",
    "\n",
    "RFM_df = pd.read_excel('C:/Users/FRowland/Desktop/JN/student-mat.xlsx')\n",
    "RFM_df.head()\n",
    "\n",
    "# Import some libraries for working in a better way\n",
    "\n",
    "import pandas as pd\n",
    "import numpy as np\n",
    "\n",
    "# Matrix of dependent variable\n",
    "dg=pd.DataFrame(RFM_df)\n",
    "dependent=dg[['G3']].to_numpy()\n",
    "\n",
    "print(dependent)"
   ]
  },
  {
   "cell_type": "markdown",
   "id": "460d6609-4c9f-4352-acfc-099f6925361a",
   "metadata": {},
   "source": [
    "<h2>Estimation of Parameters<h2/>"
   ]
  },
  {
   "cell_type": "markdown",
   "id": "e593486c-f6e5-47cc-a12c-b27afa7a33da",
   "metadata": {},
   "source": [
    "In this section I am going to estimate the parameters of the OLS. The first step is to create an unitary matrix."
   ]
  },
  {
   "cell_type": "code",
   "execution_count": 33,
   "id": "168e66ed-8376-4b0a-bda7-e07159d9e2f1",
   "metadata": {
    "collapsed": true,
    "jupyter": {
     "outputs_hidden": true
    }
   },
   "outputs": [
    {
     "name": "stdout",
     "output_type": "stream",
     "text": [
      "[[1], [1], [1], [1], [1], [1], [1], [1], [1], [1], [1], [1], [1], [1], [1], [1], [1], [1], [1], [1], [1], [1], [1], [1], [1], [1], [1], [1], [1], [1], [1], [1], [1], [1], [1], [1], [1], [1], [1], [1], [1], [1], [1], [1], [1], [1], [1], [1], [1], [1], [1], [1], [1], [1], [1], [1], [1], [1], [1], [1], [1], [1], [1], [1], [1], [1], [1], [1], [1], [1], [1], [1], [1], [1], [1], [1], [1], [1], [1], [1], [1], [1], [1], [1], [1], [1], [1], [1], [1], [1], [1], [1], [1], [1], [1], [1], [1], [1], [1], [1], [1], [1], [1], [1], [1], [1], [1], [1], [1], [1], [1], [1], [1], [1], [1], [1], [1], [1], [1], [1], [1], [1], [1], [1], [1], [1], [1], [1], [1], [1], [1], [1], [1], [1], [1], [1], [1], [1], [1], [1], [1], [1], [1], [1], [1], [1], [1], [1], [1], [1], [1], [1], [1], [1], [1], [1], [1], [1], [1], [1], [1], [1], [1], [1], [1], [1], [1], [1], [1], [1], [1], [1], [1], [1], [1], [1], [1], [1], [1], [1], [1], [1], [1], [1], [1], [1], [1], [1], [1], [1], [1], [1], [1], [1], [1], [1], [1], [1], [1], [1], [1], [1], [1], [1], [1], [1], [1], [1], [1], [1], [1], [1], [1], [1], [1], [1], [1], [1], [1], [1], [1], [1], [1], [1], [1], [1], [1], [1], [1], [1], [1], [1], [1], [1], [1], [1], [1], [1], [1], [1], [1], [1], [1], [1], [1], [1], [1], [1], [1], [1], [1], [1], [1], [1], [1], [1], [1], [1], [1], [1], [1], [1], [1], [1], [1], [1], [1], [1], [1], [1], [1], [1], [1], [1], [1], [1], [1], [1], [1], [1], [1], [1], [1], [1], [1], [1], [1], [1], [1], [1], [1], [1], [1], [1], [1], [1], [1], [1], [1], [1], [1], [1], [1], [1], [1], [1], [1], [1], [1], [1], [1], [1], [1], [1], [1], [1], [1], [1], [1], [1], [1], [1], [1], [1], [1], [1], [1], [1], [1], [1], [1], [1], [1], [1], [1], [1], [1], [1], [1], [1], [1], [1], [1], [1], [1], [1], [1], [1], [1], [1], [1], [1], [1], [1], [1], [1], [1], [1], [1], [1], [1], [1], [1], [1], [1], [1], [1], [1], [1], [1], [1], [1], [1], [1], [1], [1], [1], [1], [1], [1], [1], [1], [1], [1], [1], [1], [1], [1], [1], [1], [1], [1], [1], [1], [1]]\n"
     ]
    }
   ],
   "source": [
    "matrix_one=[]\n",
    "\n",
    "for f in range(len(dependent)):\n",
    "    matrix_one.append([])\n",
    "    for c in range(1):\n",
    "        matrix_one[f].append(1)\n",
    "\n",
    "\n",
    "print(matrix_one)"
   ]
  },
  {
   "cell_type": "markdown",
   "id": "1aba6682-28be-4937-86d4-f3eac1cadb34",
   "metadata": {},
   "source": [
    "Next, I am going to create a matrix of independent variables that will be united with the unitary matrix. Furthermore, it will be created the matrix of dependent variable."
   ]
  },
  {
   "cell_type": "code",
   "execution_count": 34,
   "id": "06800428-475e-4bea-bb7a-bc2f1e193dc1",
   "metadata": {
    "collapsed": true,
    "jupyter": {
     "outputs_hidden": true
    },
    "scrolled": true
   },
   "outputs": [
    {
     "name": "stdout",
     "output_type": "stream",
     "text": [
      "[[18.82485419]\n",
      " [-0.61262717]\n",
      " [-0.61382494]\n",
      " [ 0.50849645]\n",
      " [ 0.28221573]\n",
      " [ 0.09973841]\n",
      " [ 0.04149789]]\n"
     ]
    }
   ],
   "source": [
    "# Matrix of independent variables\n",
    "independent=dg[['age','traveltime','studytime','famrel','freetime','absences']].to_numpy()\n",
    "\n",
    "# Unitary matrix is transformed in an array\n",
    "matrix_one=np.array(matrix_one)\n",
    "\n",
    "# Unitary matrix is united with independent variables\n",
    "explicative=np.hstack((matrix_one,independent))\n",
    "\n",
    "# Matrix of independent variables (united to unitary matrix) is transposed\n",
    "x_t=np.transpose(explicative)\n",
    "\n",
    "# Estimation of betas\n",
    "betas=np.linalg.inv(x_t@explicative)@x_t@dependent\n",
    "print(betas)"
   ]
  },
  {
   "cell_type": "markdown",
   "id": "5e8ca1ac-7ee7-4038-9af0-bc452874f691",
   "metadata": {},
   "source": [
    "<h2>Standard Errors<h2/>"
   ]
  },
  {
   "cell_type": "markdown",
   "id": "bb6f186c-6a73-44f7-bf0b-13b0216ac556",
   "metadata": {},
   "source": [
    "In this section it will be estimated the Standard Errors"
   ]
  },
  {
   "cell_type": "code",
   "execution_count": 35,
   "id": "ccb5d235-13e3-458b-82c4-91055f50370b",
   "metadata": {},
   "outputs": [
    {
     "name": "stdout",
     "output_type": "stream",
     "text": [
      "[3.22553758 0.18107076 0.32735376 0.27523638 0.25641404 0.23246929\n",
      " 0.02889783]\n"
     ]
    }
   ],
   "source": [
    "# It is calculated the residuals \n",
    "residuos=dependent-explicative@betas\n",
    "\n",
    "# It is calculated the variance of the errors\n",
    "var_errors=(np.transpose(residuos)@residuos)*(1/(len(residuos)-explicative.shape[1]))\n",
    "\n",
    "#It is calculated the Var-Cov matrix\n",
    "var_cov=var_errors*np.linalg.inv(x_t@explicative)\n",
    "\n",
    "#It is calculated the standard errors\n",
    "standard_errors=np.sqrt(np.diag(var_cov))\n",
    "print(standard_errors)"
   ]
  },
  {
   "cell_type": "markdown",
   "id": "0a05faec-0bce-4fad-9d96-ffe642617052",
   "metadata": {},
   "source": [
    "<h2>t-Statistics<h2/>"
   ]
  },
  {
   "cell_type": "markdown",
   "id": "5b3ba654-22bf-4db9-bd2e-a408cbfb609e",
   "metadata": {},
   "source": [
    "In this section I am going to calculate the t statistics associated with each beta."
   ]
  },
  {
   "cell_type": "code",
   "execution_count": 36,
   "id": "b5c0f48d-3f38-4f09-b75d-a2bc61c57318",
   "metadata": {
    "collapsed": true,
    "jupyter": {
     "outputs_hidden": true
    },
    "scrolled": true
   },
   "outputs": [
    {
     "name": "stdout",
     "output_type": "stream",
     "text": [
      "[[ 5.83619125]\n",
      " [-3.38335791]\n",
      " [-1.87511191]\n",
      " [ 1.84748993]\n",
      " [ 1.10062512]\n",
      " [ 0.42903907]\n",
      " [ 1.43602123]]\n"
     ]
    }
   ],
   "source": [
    "# The shape of standard errors is changed for allowing the calculation\n",
    "standard_errors1=standard_errors.reshape(7,1)\n",
    "\n",
    "# The t-statistics are calculated for each beta\n",
    "t_statistics=betas*np.reciprocal(standard_errors1)\n",
    "\n",
    "print(t_statistics)"
   ]
  },
  {
   "cell_type": "markdown",
   "id": "26dd9a33-81f3-431a-b38f-eaf0108b6d11",
   "metadata": {},
   "source": [
    "<h2>p-Values<h2/>"
   ]
  },
  {
   "cell_type": "markdown",
   "id": "e3658a0f-ae80-4583-ae88-1943bf3669ef",
   "metadata": {},
   "source": [
    "In this section I am going to calculate the p values associated to each beta."
   ]
  },
  {
   "cell_type": "code",
   "execution_count": 37,
   "id": "a0f1fc6c-85a7-4317-b1ff-7818dd049380",
   "metadata": {
    "collapsed": true,
    "jupyter": {
     "outputs_hidden": true
    }
   },
   "outputs": [
    {
     "name": "stdout",
     "output_type": "stream",
     "text": [
      "[[1.12840290e-08]\n",
      " [7.88968943e-04]\n",
      " [6.15282106e-02]\n",
      " [6.54371908e-02]\n",
      " [2.71742199e-01]\n",
      " [6.68132908e-01]\n",
      " [1.51802030e-01]]\n"
     ]
    }
   ],
   "source": [
    "# Import this library for getting the cumulative distribution function\n",
    "from scipy import stats\n",
    "\n",
    "#p-values are estimated\n",
    "p_value=2*(1-stats.t.cdf(abs(t_statistics),len(residuos)-explicative.shape[1]))\n",
    "print(p_value)"
   ]
  },
  {
   "cell_type": "markdown",
   "id": "cfcca9b9-07de-411c-bf11-1e246f78f1c2",
   "metadata": {},
   "source": [
    "<h2>R-Square<h2/>"
   ]
  },
  {
   "cell_type": "markdown",
   "id": "8427edc1-74ab-488e-8b80-49c9ff867f35",
   "metadata": {},
   "source": [
    "In this section I am going to calculate de R-Square of this regression."
   ]
  },
  {
   "cell_type": "code",
   "execution_count": 38,
   "id": "9c6f247b-015a-490b-bcfc-dcedb67ee0a8",
   "metadata": {},
   "outputs": [
    {
     "name": "stdout",
     "output_type": "stream",
     "text": [
      "0.0531948936191613\n"
     ]
    }
   ],
   "source": [
    "# Average of the dependent variable\n",
    "y_bar=np.sum(dependent)/len(dependent)\n",
    "\n",
    "# Total Sum of Squares (SST)\n",
    "SST=np.sum((dependent-y_bar)**2)\n",
    "\n",
    "# Dependent variable estimated\n",
    "y_hat=explicative@betas\n",
    "\n",
    "# Residual Sum of Squares\n",
    "SSE=np.sum((dependent-y_hat)**2)\n",
    "\n",
    "# R-Square is calculated\n",
    "R_square=1-(SSE/SST)\n",
    "print(R_square)"
   ]
  },
  {
   "cell_type": "code",
   "execution_count": null,
   "id": "3f6183c5-4882-4cda-b959-9415c1ab9630",
   "metadata": {},
   "outputs": [],
   "source": []
  }
 ],
 "metadata": {
  "kernelspec": {
   "display_name": "Python 3 (ipykernel)",
   "language": "python",
   "name": "python3"
  },
  "language_info": {
   "codemirror_mode": {
    "name": "ipython",
    "version": 3
   },
   "file_extension": ".py",
   "mimetype": "text/x-python",
   "name": "python",
   "nbconvert_exporter": "python",
   "pygments_lexer": "ipython3",
   "version": "3.13.0"
  }
 },
 "nbformat": 4,
 "nbformat_minor": 5
}
