{
 "cells": [
  {
   "cell_type": "markdown",
   "id": "7a7a3539-76c8-4a5e-b4a2-3d56243506d0",
   "metadata": {},
   "source": [
    "<h1>Report 1<h1/>"
   ]
  },
  {
   "cell_type": "markdown",
   "id": "61e9944f-5842-4117-9eb3-c02e35db9f97",
   "metadata": {},
   "source": [
    "In this notebook I am going to present the code for the resolution of the Assessment 1 in the module \"Programming and Policy Analysis\"."
   ]
  },
  {
   "cell_type": "markdown",
   "id": "6d21474e-c8d4-4bba-b542-af7b03aed6de",
   "metadata": {},
   "source": [
    "<h2>Loading Database<h2/>"
   ]
  },
  {
   "cell_type": "markdown",
   "id": "e887961a-600c-4cde-bd30-95deb5ce0151",
   "metadata": {},
   "source": [
    "In this section I am going to upload the database. It could be any database, but in this case I will use the database \"Student Performance\" from an Introductory Paper for 5th Annual Future Business Technology Conference."
   ]
  },
  {
   "cell_type": "code",
   "execution_count": 1,
   "id": "a236bd6a-275d-4582-8c93-6fc6eb38e6b4",
   "metadata": {
    "collapsed": true,
    "jupyter": {
     "outputs_hidden": true
    }
   },
   "outputs": [
    {
     "name": "stdout",
     "output_type": "stream",
     "text": [
      "Requirement already satisfied: ucimlrepo in c:\\users\\frowland\\appdata\\local\\programs\\python\\python313\\lib\\site-packages (0.0.7)\n",
      "Requirement already satisfied: pandas>=1.0.0 in c:\\users\\frowland\\appdata\\local\\programs\\python\\python313\\lib\\site-packages (from ucimlrepo) (2.2.3)\n",
      "Requirement already satisfied: certifi>=2020.12.5 in c:\\users\\frowland\\appdata\\local\\programs\\python\\python313\\lib\\site-packages (from ucimlrepo) (2024.8.30)\n",
      "Requirement already satisfied: numpy>=1.26.0 in c:\\users\\frowland\\appdata\\local\\programs\\python\\python313\\lib\\site-packages (from pandas>=1.0.0->ucimlrepo) (2.1.2)\n",
      "Requirement already satisfied: python-dateutil>=2.8.2 in c:\\users\\frowland\\appdata\\local\\programs\\python\\python313\\lib\\site-packages (from pandas>=1.0.0->ucimlrepo) (2.9.0.post0)\n",
      "Requirement already satisfied: pytz>=2020.1 in c:\\users\\frowland\\appdata\\local\\programs\\python\\python313\\lib\\site-packages (from pandas>=1.0.0->ucimlrepo) (2024.2)\n",
      "Requirement already satisfied: tzdata>=2022.7 in c:\\users\\frowland\\appdata\\local\\programs\\python\\python313\\lib\\site-packages (from pandas>=1.0.0->ucimlrepo) (2024.2)\n",
      "Requirement already satisfied: six>=1.5 in c:\\users\\frowland\\appdata\\local\\programs\\python\\python313\\lib\\site-packages (from python-dateutil>=2.8.2->pandas>=1.0.0->ucimlrepo) (1.16.0)\n"
     ]
    },
    {
     "name": "stderr",
     "output_type": "stream",
     "text": [
      "\n",
      "[notice] A new release of pip is available: 24.2 -> 24.3.1\n",
      "[notice] To update, run: python.exe -m pip install --upgrade pip\n"
     ]
    },
    {
     "name": "stdout",
     "output_type": "stream",
     "text": [
      "{'uci_id': 320, 'name': 'Student Performance', 'repository_url': 'https://archive.ics.uci.edu/dataset/320/student+performance', 'data_url': 'https://archive.ics.uci.edu/static/public/320/data.csv', 'abstract': 'Predict student performance in secondary education (high school). ', 'area': 'Social Science', 'tasks': ['Classification', 'Regression'], 'characteristics': ['Multivariate'], 'num_instances': 649, 'num_features': 30, 'feature_types': ['Integer'], 'demographics': ['Sex', 'Age', 'Other', 'Education Level', 'Occupation'], 'target_col': ['G1', 'G2', 'G3'], 'index_col': None, 'has_missing_values': 'no', 'missing_values_symbol': None, 'year_of_dataset_creation': 2008, 'last_updated': 'Fri Jan 05 2024', 'dataset_doi': '10.24432/C5TG7T', 'creators': ['Paulo Cortez'], 'intro_paper': {'ID': 360, 'type': 'NATIVE', 'title': 'Using data mining to predict secondary school student performance', 'authors': 'P. Cortez, A. M. G. Silva', 'venue': 'Proceedings of 5th Annual Future Business Technology Conference', 'year': 2008, 'journal': None, 'DOI': None, 'URL': 'https://www.semanticscholar.org/paper/61d468d5254730bbecf822c6b60d7d6595d9889c', 'sha': None, 'corpus': '16621299', 'arxiv': None, 'mag': None, 'acl': None, 'pmid': None, 'pmcid': None}, 'additional_info': {'summary': 'This data approach student achievement in secondary education of two Portuguese schools. The data attributes include student grades, demographic, social and school related features) and it was collected by using school reports and questionnaires. Two datasets are provided regarding the performance in two distinct subjects: Mathematics (mat) and Portuguese language (por). In [Cortez and Silva, 2008], the two datasets were modeled under binary/five-level classification and regression tasks. Important note: the target attribute G3 has a strong correlation with attributes G2 and G1. This occurs because G3 is the final year grade (issued at the 3rd period), while G1 and G2 correspond to the 1st and 2nd period grades. It is more difficult to predict G3 without G2 and G1, but such prediction is much more useful (see paper source for more details).', 'purpose': None, 'funded_by': None, 'instances_represent': None, 'recommended_data_splits': None, 'sensitive_data': None, 'preprocessing_description': None, 'variable_info': \"# Attributes for both student-mat.csv (Math course) and student-por.csv (Portuguese language course) datasets:\\r\\n1 school - student's school (binary: 'GP' - Gabriel Pereira or 'MS' - Mousinho da Silveira)\\r\\n2 sex - student's sex (binary: 'F' - female or 'M' - male)\\r\\n3 age - student's age (numeric: from 15 to 22)\\r\\n4 address - student's home address type (binary: 'U' - urban or 'R' - rural)\\r\\n5 famsize - family size (binary: 'LE3' - less or equal to 3 or 'GT3' - greater than 3)\\r\\n6 Pstatus - parent's cohabitation status (binary: 'T' - living together or 'A' - apart)\\r\\n7 Medu - mother's education (numeric: 0 - none,  1 - primary education (4th grade), 2 â€“ 5th to 9th grade, 3 â€“ secondary education or 4 â€“ higher education)\\r\\n8 Fedu - father's education (numeric: 0 - none,  1 - primary education (4th grade), 2 â€“ 5th to 9th grade, 3 â€“ secondary education or 4 â€“ higher education)\\r\\n9 Mjob - mother's job (nominal: 'teacher', 'health' care related, civil 'services' (e.g. administrative or police), 'at_home' or 'other')\\r\\n10 Fjob - father's job (nominal: 'teacher', 'health' care related, civil 'services' (e.g. administrative or police), 'at_home' or 'other')\\r\\n11 reason - reason to choose this school (nominal: close to 'home', school 'reputation', 'course' preference or 'other')\\r\\n12 guardian - student's guardian (nominal: 'mother', 'father' or 'other')\\r\\n13 traveltime - home to school travel time (numeric: 1 - <15 min., 2 - 15 to 30 min., 3 - 30 min. to 1 hour, or 4 - >1 hour)\\r\\n14 studytime - weekly study time (numeric: 1 - <2 hours, 2 - 2 to 5 hours, 3 - 5 to 10 hours, or 4 - >10 hours)\\r\\n15 failures - number of past class failures (numeric: n if 1<=n<3, else 4)\\r\\n16 schoolsup - extra educational support (binary: yes or no)\\r\\n17 famsup - family educational support (binary: yes or no)\\r\\n18 paid - extra paid classes within the course subject (Math or Portuguese) (binary: yes or no)\\r\\n19 activities - extra-curricular activities (binary: yes or no)\\r\\n20 nursery - attended nursery school (binary: yes or no)\\r\\n21 higher - wants to take higher education (binary: yes or no)\\r\\n22 internet - Internet access at home (binary: yes or no)\\r\\n23 romantic - with a romantic relationship (binary: yes or no)\\r\\n24 famrel - quality of family relationships (numeric: from 1 - very bad to 5 - excellent)\\r\\n25 freetime - free time after school (numeric: from 1 - very low to 5 - very high)\\r\\n26 goout - going out with friends (numeric: from 1 - very low to 5 - very high)\\r\\n27 Dalc - workday alcohol consumption (numeric: from 1 - very low to 5 - very high)\\r\\n28 Walc - weekend alcohol consumption (numeric: from 1 - very low to 5 - very high)\\r\\n29 health - current health status (numeric: from 1 - very bad to 5 - very good)\\r\\n30 absences - number of school absences (numeric: from 0 to 93)\\r\\n\\r\\n# these grades are related with the course subject, Math or Portuguese:\\r\\n31 G1 - first period grade (numeric: from 0 to 20)\\r\\n31 G2 - second period grade (numeric: from 0 to 20)\\r\\n32 G3 - final grade (numeric: from 0 to 20, output target)\", 'citation': None}}\n",
      "          name     role         type      demographic  \\\n",
      "0       school  Feature  Categorical             None   \n",
      "1          sex  Feature       Binary              Sex   \n",
      "2          age  Feature      Integer              Age   \n",
      "3      address  Feature  Categorical             None   \n",
      "4      famsize  Feature  Categorical            Other   \n",
      "5      Pstatus  Feature  Categorical            Other   \n",
      "6         Medu  Feature      Integer  Education Level   \n",
      "7         Fedu  Feature      Integer  Education Level   \n",
      "8         Mjob  Feature  Categorical       Occupation   \n",
      "9         Fjob  Feature  Categorical       Occupation   \n",
      "10      reason  Feature  Categorical             None   \n",
      "11    guardian  Feature  Categorical             None   \n",
      "12  traveltime  Feature      Integer             None   \n",
      "13   studytime  Feature      Integer             None   \n",
      "14    failures  Feature      Integer             None   \n",
      "15   schoolsup  Feature       Binary             None   \n",
      "16      famsup  Feature       Binary             None   \n",
      "17        paid  Feature       Binary             None   \n",
      "18  activities  Feature       Binary             None   \n",
      "19     nursery  Feature       Binary             None   \n",
      "20      higher  Feature       Binary             None   \n",
      "21    internet  Feature       Binary             None   \n",
      "22    romantic  Feature       Binary             None   \n",
      "23      famrel  Feature      Integer             None   \n",
      "24    freetime  Feature      Integer             None   \n",
      "25       goout  Feature      Integer             None   \n",
      "26        Dalc  Feature      Integer             None   \n",
      "27        Walc  Feature      Integer             None   \n",
      "28      health  Feature      Integer             None   \n",
      "29    absences  Feature      Integer             None   \n",
      "30          G1   Target  Categorical             None   \n",
      "31          G2   Target  Categorical             None   \n",
      "32          G3   Target      Integer             None   \n",
      "\n",
      "                                          description units missing_values  \n",
      "0   student's school (binary: 'GP' - Gabriel Perei...  None             no  \n",
      "1   student's sex (binary: 'F' - female or 'M' - m...  None             no  \n",
      "2              student's age (numeric: from 15 to 22)  None             no  \n",
      "3   student's home address type (binary: 'U' - urb...  None             no  \n",
      "4   family size (binary: 'LE3' - less or equal to ...  None             no  \n",
      "5   parent's cohabitation status (binary: 'T' - li...  None             no  \n",
      "6   mother's education (numeric: 0 - none,  1 - pr...  None             no  \n",
      "7   father's education (numeric: 0 - none,  1 - pr...  None             no  \n",
      "8   mother's job (nominal: 'teacher', 'health' car...  None             no  \n",
      "9   father's job (nominal: 'teacher', 'health' car...  None             no  \n",
      "10  reason to choose this school (nominal: close t...  None             no  \n",
      "11  student's guardian (nominal: 'mother', 'father...  None             no  \n",
      "12  home to school travel time (numeric: 1 - <15 m...  None             no  \n",
      "13  weekly study time (numeric: 1 - <2 hours, 2 - ...  None             no  \n",
      "14  number of past class failures (numeric: n if 1...  None             no  \n",
      "15      extra educational support (binary: yes or no)  None             no  \n",
      "16     family educational support (binary: yes or no)  None             no  \n",
      "17  extra paid classes within the course subject (...  None             no  \n",
      "18    extra-curricular activities (binary: yes or no)  None             no  \n",
      "19        attended nursery school (binary: yes or no)  None             no  \n",
      "20  wants to take higher education (binary: yes or...  None             no  \n",
      "21        Internet access at home (binary: yes or no)  None             no  \n",
      "22   with a romantic relationship (binary: yes or no)  None             no  \n",
      "23  quality of family relationships (numeric: from...  None             no  \n",
      "24  free time after school (numeric: from 1 - very...  None             no  \n",
      "25  going out with friends (numeric: from 1 - very...  None             no  \n",
      "26  workday alcohol consumption (numeric: from 1 -...  None             no  \n",
      "27  weekend alcohol consumption (numeric: from 1 -...  None             no  \n",
      "28  current health status (numeric: from 1 - very ...  None             no  \n",
      "29  number of school absences (numeric: from 0 to 93)  None             no  \n",
      "30         first period grade (numeric: from 0 to 20)  None             no  \n",
      "31        second period grade (numeric: from 0 to 20)  None             no  \n",
      "32  final grade (numeric: from 0 to 20, output tar...  None             no  \n",
      "     G1  G2  G3\n",
      "0     0  11  11\n",
      "1     9  11  11\n",
      "2    12  13  12\n",
      "3    14  14  14\n",
      "4    11  13  13\n",
      "..   ..  ..  ..\n",
      "644  10  11  10\n",
      "645  15  15  16\n",
      "646  11  12   9\n",
      "647  10  10  10\n",
      "648  10  11  11\n",
      "\n",
      "[649 rows x 3 columns]\n",
      "    school sex  age address famsize Pstatus  Medu  Fedu      Mjob      Fjob  \\\n",
      "0       GP   F   18       U     GT3       A     4     4   at_home   teacher   \n",
      "1       GP   F   17       U     GT3       T     1     1   at_home     other   \n",
      "2       GP   F   15       U     LE3       T     1     1   at_home     other   \n",
      "3       GP   F   15       U     GT3       T     4     2    health  services   \n",
      "4       GP   F   16       U     GT3       T     3     3     other     other   \n",
      "..     ...  ..  ...     ...     ...     ...   ...   ...       ...       ...   \n",
      "644     MS   F   19       R     GT3       T     2     3  services     other   \n",
      "645     MS   F   18       U     LE3       T     3     1   teacher  services   \n",
      "646     MS   F   18       U     GT3       T     1     1     other     other   \n",
      "647     MS   M   17       U     LE3       T     3     1  services  services   \n",
      "648     MS   M   18       R     LE3       T     3     2  services     other   \n",
      "\n",
      "     ... higher internet  romantic  famrel  freetime goout Dalc Walc health  \\\n",
      "0    ...    yes       no        no       4         3     4    1    1      3   \n",
      "1    ...    yes      yes        no       5         3     3    1    1      3   \n",
      "2    ...    yes      yes        no       4         3     2    2    3      3   \n",
      "3    ...    yes      yes       yes       3         2     2    1    1      5   \n",
      "4    ...    yes       no        no       4         3     2    1    2      5   \n",
      "..   ...    ...      ...       ...     ...       ...   ...  ...  ...    ...   \n",
      "644  ...    yes      yes        no       5         4     2    1    2      5   \n",
      "645  ...    yes      yes        no       4         3     4    1    1      1   \n",
      "646  ...    yes       no        no       1         1     1    1    1      5   \n",
      "647  ...    yes      yes        no       2         4     5    3    4      2   \n",
      "648  ...    yes      yes        no       4         4     1    3    4      5   \n",
      "\n",
      "    absences  \n",
      "0          4  \n",
      "1          2  \n",
      "2          6  \n",
      "3          0  \n",
      "4          0  \n",
      "..       ...  \n",
      "644        4  \n",
      "645        4  \n",
      "646        6  \n",
      "647        6  \n",
      "648        4  \n",
      "\n",
      "[649 rows x 30 columns]\n"
     ]
    }
   ],
   "source": [
    "!pip3 install -U ucimlrepo \n",
    "\n",
    "from ucimlrepo import fetch_ucirepo \n",
    "  \n",
    "# fetch dataset \n",
    "student_performance = fetch_ucirepo(id=320) \n",
    "  \n",
    "# data (as pandas dataframes) \n",
    "X = student_performance.data.features \n",
    "y = student_performance.data.targets \n",
    "  \n",
    "# metadata \n",
    "print(student_performance.metadata) \n",
    "  \n",
    "# variable information \n",
    "print(student_performance.variables) \n",
    "\n",
    "print(y)\n",
    "print (X)"
   ]
  },
  {
   "cell_type": "markdown",
   "id": "460d6609-4c9f-4352-acfc-099f6925361a",
   "metadata": {},
   "source": [
    "<h2>Estimation of Parameters<h2/>"
   ]
  },
  {
   "cell_type": "markdown",
   "id": "e593486c-f6e5-47cc-a12c-b27afa7a33da",
   "metadata": {},
   "source": [
    "In this section I am going to estimate the parameters of the OLS. The first step is to create an unitary matrix."
   ]
  },
  {
   "cell_type": "code",
   "execution_count": 2,
   "id": "168e66ed-8376-4b0a-bda7-e07159d9e2f1",
   "metadata": {
    "collapsed": true,
    "jupyter": {
     "outputs_hidden": true
    }
   },
   "outputs": [
    {
     "name": "stdout",
     "output_type": "stream",
     "text": [
      "[[1], [1], [1], [1], [1], [1], [1], [1], [1], [1], [1], [1], [1], [1], [1], [1], [1], [1], [1], [1], [1], [1], [1], [1], [1], [1], [1], [1], [1], [1], [1], [1], [1], [1], [1], [1], [1], [1], [1], [1], [1], [1], [1], [1], [1], [1], [1], [1], [1], [1], [1], [1], [1], [1], [1], [1], [1], [1], [1], [1], [1], [1], [1], [1], [1], [1], [1], [1], [1], [1], [1], [1], [1], [1], [1], [1], [1], [1], [1], [1], [1], [1], [1], [1], [1], [1], [1], [1], [1], [1], [1], [1], [1], [1], [1], [1], [1], [1], [1], [1], [1], [1], [1], [1], [1], [1], [1], [1], [1], [1], [1], [1], [1], [1], [1], [1], [1], [1], [1], [1], [1], [1], [1], [1], [1], [1], [1], [1], [1], [1], [1], [1], [1], [1], [1], [1], [1], [1], [1], [1], [1], [1], [1], [1], [1], [1], [1], [1], [1], [1], [1], [1], [1], [1], [1], [1], [1], [1], [1], [1], [1], [1], [1], [1], [1], [1], [1], [1], [1], [1], [1], [1], [1], [1], [1], [1], [1], [1], [1], [1], [1], [1], [1], [1], [1], [1], [1], [1], [1], [1], [1], [1], [1], [1], [1], [1], [1], [1], [1], [1], [1], [1], [1], [1], [1], [1], [1], [1], [1], [1], [1], [1], [1], [1], [1], [1], [1], [1], [1], [1], [1], [1], [1], [1], [1], [1], [1], [1], [1], [1], [1], [1], [1], [1], [1], [1], [1], [1], [1], [1], [1], [1], [1], [1], [1], [1], [1], [1], [1], [1], [1], [1], [1], [1], [1], [1], [1], [1], [1], [1], [1], [1], [1], [1], [1], [1], [1], [1], [1], [1], [1], [1], [1], [1], [1], [1], [1], [1], [1], [1], [1], [1], [1], [1], [1], [1], [1], [1], [1], [1], [1], [1], [1], [1], [1], [1], [1], [1], [1], [1], [1], [1], [1], [1], [1], [1], [1], [1], [1], [1], [1], [1], [1], [1], [1], [1], [1], [1], [1], [1], [1], [1], [1], [1], [1], [1], [1], [1], [1], [1], [1], [1], [1], [1], [1], [1], [1], [1], [1], [1], [1], [1], [1], [1], [1], [1], [1], [1], [1], [1], [1], [1], [1], [1], [1], [1], [1], [1], [1], [1], [1], [1], [1], [1], [1], [1], [1], [1], [1], [1], [1], [1], [1], [1], [1], [1], [1], [1], [1], [1], [1], [1], [1], [1], [1], [1], [1], [1], [1], [1], [1], [1], [1], [1], [1], [1], [1], [1], [1], [1], [1], [1], [1], [1], [1], [1], [1], [1], [1], [1], [1], [1], [1], [1], [1], [1], [1], [1], [1], [1], [1], [1], [1], [1], [1], [1], [1], [1], [1], [1], [1], [1], [1], [1], [1], [1], [1], [1], [1], [1], [1], [1], [1], [1], [1], [1], [1], [1], [1], [1], [1], [1], [1], [1], [1], [1], [1], [1], [1], [1], [1], [1], [1], [1], [1], [1], [1], [1], [1], [1], [1], [1], [1], [1], [1], [1], [1], [1], [1], [1], [1], [1], [1], [1], [1], [1], [1], [1], [1], [1], [1], [1], [1], [1], [1], [1], [1], [1], [1], [1], [1], [1], [1], [1], [1], [1], [1], [1], [1], [1], [1], [1], [1], [1], [1], [1], [1], [1], [1], [1], [1], [1], [1], [1], [1], [1], [1], [1], [1], [1], [1], [1], [1], [1], [1], [1], [1], [1], [1], [1], [1], [1], [1], [1], [1], [1], [1], [1], [1], [1], [1], [1], [1], [1], [1], [1], [1], [1], [1], [1], [1], [1], [1], [1], [1], [1], [1], [1], [1], [1], [1], [1], [1], [1], [1], [1], [1], [1], [1], [1], [1], [1], [1], [1], [1], [1], [1], [1], [1], [1], [1], [1], [1], [1], [1], [1], [1], [1], [1], [1], [1], [1], [1], [1], [1], [1], [1], [1], [1], [1], [1], [1], [1], [1], [1], [1], [1], [1], [1], [1], [1], [1], [1], [1], [1], [1], [1], [1], [1], [1], [1], [1], [1], [1], [1], [1], [1], [1], [1], [1], [1], [1], [1], [1], [1], [1], [1], [1], [1]]\n"
     ]
    }
   ],
   "source": [
    "matrix_one=[]\n",
    "\n",
    "for f in range(len(y)):\n",
    "    matrix_one.append([])\n",
    "    for c in range(1):\n",
    "        matrix_one[f].append(1)\n",
    "\n",
    "\n",
    "print(matrix_one)"
   ]
  },
  {
   "cell_type": "markdown",
   "id": "1aba6682-28be-4937-86d4-f3eac1cadb34",
   "metadata": {},
   "source": [
    "Next, I am going to create a matrix of independent variables that will be united with the unitary matrix. Furthermore, it will be created the matrix of dependent variable."
   ]
  },
  {
   "cell_type": "code",
   "execution_count": 4,
   "id": "06800428-475e-4bea-bb7a-bc2f1e193dc1",
   "metadata": {
    "collapsed": true,
    "jupyter": {
     "outputs_hidden": true
    },
    "scrolled": true
   },
   "outputs": [
    {
     "name": "stdout",
     "output_type": "stream",
     "text": [
      "[[15.35557546]\n",
      " [-0.2462774 ]\n",
      " [-0.47082367]\n",
      " [ 0.89095476]\n",
      " [ 0.24453112]\n",
      " [-0.36127202]\n",
      " [-0.03270453]]\n"
     ]
    }
   ],
   "source": [
    "# Import some libraries for working in a better way\n",
    "\n",
    "import pandas as pd\n",
    "import numpy as np\n",
    "\n",
    "\n",
    "df=pd.DataFrame(X)\n",
    "dg=pd.DataFrame(y)\n",
    "\n",
    "# Matrix of independent variables\n",
    "independent=df[['age','traveltime','studytime','famrel','freetime','absences']].to_numpy()\n",
    "\n",
    "# Matrix of dependent variable\n",
    "dependent=dg[['G3']].to_numpy()\n",
    "\n",
    "# Unitary matrix is transformed in an array\n",
    "matrix_one=np.array(matrix_one)\n",
    "\n",
    "# Unitary matrix is united with independent variables\n",
    "explicative=np.hstack((matrix_one,independent))\n",
    "\n",
    "# Matrix of independent variables (united to unitary matrix) is transposed\n",
    "x_t=np.transpose(explicative)\n",
    "\n",
    "# Estimation of betas\n",
    "betas=np.linalg.inv(x_t@explicative)@x_t@dependent\n",
    "print(betas)"
   ]
  },
  {
   "cell_type": "markdown",
   "id": "5e8ca1ac-7ee7-4038-9af0-bc452874f691",
   "metadata": {},
   "source": [
    "<h2>Standard Errors<h2/>"
   ]
  },
  {
   "cell_type": "markdown",
   "id": "bb6f186c-6a73-44f7-bf0b-13b0216ac556",
   "metadata": {},
   "source": [
    "In this section it will be estimated the Standard Errors"
   ]
  },
  {
   "cell_type": "code",
   "execution_count": 6,
   "id": "ccb5d235-13e3-458b-82c4-91055f50370b",
   "metadata": {
    "collapsed": true,
    "jupyter": {
     "outputs_hidden": true
    },
    "scrolled": true
   },
   "outputs": [
    {
     "name": "stdout",
     "output_type": "stream",
     "text": [
      "[1.81565357 0.10027579 0.16165395 0.1472092  0.12784372 0.11607241\n",
      " 0.02660215]\n"
     ]
    }
   ],
   "source": [
    "# It is calculated the residuals \n",
    "residuos=dependent-explicative@betas\n",
    "\n",
    "# It is calculated the variance of the errors\n",
    "var_errors=(np.transpose(residuos)@residuos)*(1/(len(residuos)-explicative.shape[1]))\n",
    "\n",
    "#It is calculated the Var-Cov matrix\n",
    "var_cov=var_errors*np.linalg.inv(x_t@explicative)\n",
    "\n",
    "#It is calculated the standard errors\n",
    "standard_errors=np.sqrt(np.diag(var_cov))\n",
    "print(standard_errors)"
   ]
  },
  {
   "cell_type": "markdown",
   "id": "0a05faec-0bce-4fad-9d96-ffe642617052",
   "metadata": {},
   "source": [
    "<h2>t-Statistics<h2/>"
   ]
  },
  {
   "cell_type": "markdown",
   "id": "5b3ba654-22bf-4db9-bd2e-a408cbfb609e",
   "metadata": {},
   "source": [
    "In this section I am going to calculate the t statistics associated with each beta."
   ]
  },
  {
   "cell_type": "code",
   "execution_count": 8,
   "id": "b5c0f48d-3f38-4f09-b75d-a2bc61c57318",
   "metadata": {},
   "outputs": [
    {
     "name": "stdout",
     "output_type": "stream",
     "text": [
      "[[ 8.4573267 ]\n",
      " [-2.45600047]\n",
      " [-2.91254036]\n",
      " [ 6.05230352]\n",
      " [ 1.91273474]\n",
      " [-3.11247118]\n",
      " [-1.22939442]]\n"
     ]
    }
   ],
   "source": [
    "# The shape of standard errors is changed for allowing the calculation\n",
    "standard_errors1=standard_errors.reshape(7,1)\n",
    "\n",
    "# The t-statistics are calculated for each beta\n",
    "t_statistics=betas*np.reciprocal(standard_errors1)\n",
    "\n",
    "print(t_statistics)"
   ]
  },
  {
   "cell_type": "markdown",
   "id": "26dd9a33-81f3-431a-b38f-eaf0108b6d11",
   "metadata": {},
   "source": [
    "<h2>p-Values<h2/>"
   ]
  },
  {
   "cell_type": "markdown",
   "id": "e3658a0f-ae80-4583-ae88-1943bf3669ef",
   "metadata": {},
   "source": [
    "In this section I am going to calculate the p values associated to each beta."
   ]
  },
  {
   "cell_type": "code",
   "execution_count": 9,
   "id": "a0f1fc6c-85a7-4317-b1ff-7818dd049380",
   "metadata": {
    "collapsed": true,
    "jupyter": {
     "outputs_hidden": true
    },
    "scrolled": true
   },
   "outputs": [
    {
     "name": "stdout",
     "output_type": "stream",
     "text": [
      "[[2.22044605e-16]\n",
      " [1.43131173e-02]\n",
      " [3.70955924e-03]\n",
      " [2.42799025e-09]\n",
      " [5.62266489e-02]\n",
      " [1.93769711e-03]\n",
      " [2.19374335e-01]]\n"
     ]
    }
   ],
   "source": [
    "# Import this library for getting the cumulative distribution function\n",
    "from scipy import stats\n",
    "\n",
    "#p-values are estimated\n",
    "p_value=2*(1-stats.t.cdf(abs(t_statistics),len(residuos)-explicative.shape[1]))\n",
    "print(p_value)"
   ]
  },
  {
   "cell_type": "markdown",
   "id": "cfcca9b9-07de-411c-bf11-1e246f78f1c2",
   "metadata": {},
   "source": [
    "<h2>R-Square<h2/>"
   ]
  },
  {
   "cell_type": "markdown",
   "id": "8427edc1-74ab-488e-8b80-49c9ff867f35",
   "metadata": {},
   "source": [
    "In this section I am going to calculate de R-Square of this regression."
   ]
  },
  {
   "cell_type": "code",
   "execution_count": 11,
   "id": "9c6f247b-015a-490b-bcfc-dcedb67ee0a8",
   "metadata": {},
   "outputs": [
    {
     "name": "stdout",
     "output_type": "stream",
     "text": [
      "0.10420715318150897\n"
     ]
    }
   ],
   "source": [
    "# Average of the dependent variable\n",
    "y_bar=np.sum(dependent)/len(dependent)\n",
    "\n",
    "# Total Sum of Squares (SST)\n",
    "SST=np.sum((dependent-y_bar)**2)\n",
    "\n",
    "# Dependent variable estimated\n",
    "y_hat=explicative@betas\n",
    "\n",
    "# Residual Sum of Squares\n",
    "SSE=np.sum((dependent-y_hat)**2)\n",
    "\n",
    "# R-Square is calculated\n",
    "R_square=1-(SSE/SST)\n",
    "print(R_square)"
   ]
  },
  {
   "cell_type": "code",
   "execution_count": null,
   "id": "3f6183c5-4882-4cda-b959-9415c1ab9630",
   "metadata": {},
   "outputs": [],
   "source": []
  }
 ],
 "metadata": {
  "kernelspec": {
   "display_name": "Python 3 (ipykernel)",
   "language": "python",
   "name": "python3"
  },
  "language_info": {
   "codemirror_mode": {
    "name": "ipython",
    "version": 3
   },
   "file_extension": ".py",
   "mimetype": "text/x-python",
   "name": "python",
   "nbconvert_exporter": "python",
   "pygments_lexer": "ipython3",
   "version": "3.13.0"
  }
 },
 "nbformat": 4,
 "nbformat_minor": 5
}
